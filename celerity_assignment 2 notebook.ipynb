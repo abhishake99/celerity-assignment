{
 "cells": [
  {
   "attachments": {},
   "cell_type": "markdown",
   "metadata": {},
   "source": [
    "# Celerity Assignment 2"
   ]
  },
  {
   "attachments": {},
   "cell_type": "markdown",
   "metadata": {},
   "source": [
    "# Importing modules"
   ]
  },
  {
   "cell_type": "code",
   "execution_count": 97,
   "metadata": {},
   "outputs": [],
   "source": [
    "import pandas as pd\n",
    "import statistics\n",
    "import numpy as np\n",
    "from sklearn.linear_model import LinearRegression"
   ]
  },
  {
   "cell_type": "markdown",
   "metadata": {},
   "source": [
    "# Loading Data"
   ]
  },
  {
   "cell_type": "code",
   "execution_count": 98,
   "metadata": {},
   "outputs": [],
   "source": [
    "air=pd.read_csv(r\"C:\\Users\\abhishek\\mypython\\celerity assign 2\\celerity assignment 2 - air.csv\")"
   ]
  },
  {
   "cell_type": "code",
   "execution_count": 99,
   "metadata": {},
   "outputs": [
    {
     "data": {
      "text/html": [
       "<div>\n",
       "<style scoped>\n",
       "    .dataframe tbody tr th:only-of-type {\n",
       "        vertical-align: middle;\n",
       "    }\n",
       "\n",
       "    .dataframe tbody tr th {\n",
       "        vertical-align: top;\n",
       "    }\n",
       "\n",
       "    .dataframe thead th {\n",
       "        text-align: right;\n",
       "    }\n",
       "</style>\n",
       "<table border=\"1\" class=\"dataframe\">\n",
       "  <thead>\n",
       "    <tr style=\"text-align: right;\">\n",
       "      <th></th>\n",
       "      <th>FROM</th>\n",
       "      <th>TO</th>\n",
       "      <th>TRANSIT TIME</th>\n",
       "      <th>AIRWAYS</th>\n",
       "      <th>Freight per kg</th>\n",
       "      <th>Operation Type</th>\n",
       "    </tr>\n",
       "  </thead>\n",
       "  <tbody>\n",
       "    <tr>\n",
       "      <th>0</th>\n",
       "      <td>Chhatrapati Shivaji Maharaj International Airp...</td>\n",
       "      <td>Los Angeles International Airport (LAX)</td>\n",
       "      <td>98 hours 37 minutes</td>\n",
       "      <td>QATAR AIRWAYS</td>\n",
       "      <td>₹6,459</td>\n",
       "      <td>passenger</td>\n",
       "    </tr>\n",
       "    <tr>\n",
       "      <th>1</th>\n",
       "      <td>Chhatrapati Shivaji Maharaj International Airp...</td>\n",
       "      <td>Los Angeles International Airport (LAX)</td>\n",
       "      <td>98 hours 37 minutes</td>\n",
       "      <td>EMIRATES</td>\n",
       "      <td>₹6,512</td>\n",
       "      <td>freighter</td>\n",
       "    </tr>\n",
       "    <tr>\n",
       "      <th>2</th>\n",
       "      <td>Chhatrapati Shivaji Maharaj International Airp...</td>\n",
       "      <td>Chicago O'Hare International Airport (ORD)</td>\n",
       "      <td>98 hours 37 minutes</td>\n",
       "      <td>ETIHAD AIRWAYS</td>\n",
       "      <td>₹6,307</td>\n",
       "      <td>freighter</td>\n",
       "    </tr>\n",
       "    <tr>\n",
       "      <th>3</th>\n",
       "      <td>Chhatrapati Shivaji Maharaj International Airp...</td>\n",
       "      <td>Chicago O'Hare International Airport (ORD)</td>\n",
       "      <td>98 hours 37 minutes</td>\n",
       "      <td>QATAR AIRWAYS</td>\n",
       "      <td>₹6,459</td>\n",
       "      <td>passenger</td>\n",
       "    </tr>\n",
       "    <tr>\n",
       "      <th>4</th>\n",
       "      <td>Chhatrapati Shivaji Maharaj International Airp...</td>\n",
       "      <td>Chicago O'Hare International Airport (ORD)</td>\n",
       "      <td>98 hours 37 minutes</td>\n",
       "      <td>EMIRATES</td>\n",
       "      <td>₹6,511</td>\n",
       "      <td>freighter</td>\n",
       "    </tr>\n",
       "  </tbody>\n",
       "</table>\n",
       "</div>"
      ],
      "text/plain": [
       "                                                FROM  \\\n",
       "0  Chhatrapati Shivaji Maharaj International Airp...   \n",
       "1  Chhatrapati Shivaji Maharaj International Airp...   \n",
       "2  Chhatrapati Shivaji Maharaj International Airp...   \n",
       "3  Chhatrapati Shivaji Maharaj International Airp...   \n",
       "4  Chhatrapati Shivaji Maharaj International Airp...   \n",
       "\n",
       "                                           TO         TRANSIT TIME  \\\n",
       "0     Los Angeles International Airport (LAX)  98 hours 37 minutes   \n",
       "1     Los Angeles International Airport (LAX)  98 hours 37 minutes   \n",
       "2  Chicago O'Hare International Airport (ORD)  98 hours 37 minutes   \n",
       "3  Chicago O'Hare International Airport (ORD)  98 hours 37 minutes   \n",
       "4  Chicago O'Hare International Airport (ORD)  98 hours 37 minutes   \n",
       "\n",
       "          AIRWAYS Freight per kg Operation Type  \n",
       "0   QATAR AIRWAYS         ₹6,459      passenger  \n",
       "1        EMIRATES         ₹6,512      freighter  \n",
       "2  ETIHAD AIRWAYS         ₹6,307      freighter  \n",
       "3   QATAR AIRWAYS         ₹6,459      passenger  \n",
       "4        EMIRATES         ₹6,511      freighter  "
      ]
     },
     "execution_count": 99,
     "metadata": {},
     "output_type": "execute_result"
    }
   ],
   "source": [
    "air.head()"
   ]
  },
  {
   "cell_type": "code",
   "execution_count": 100,
   "metadata": {},
   "outputs": [],
   "source": [
    "ship=pd.read_csv(r\"C:\\Users\\abhishek\\mypython\\celerity assign 2\\celerity assignment 2 - ship.csv\")"
   ]
  },
  {
   "cell_type": "code",
   "execution_count": 101,
   "metadata": {},
   "outputs": [
    {
     "data": {
      "text/html": [
       "<div>\n",
       "<style scoped>\n",
       "    .dataframe tbody tr th:only-of-type {\n",
       "        vertical-align: middle;\n",
       "    }\n",
       "\n",
       "    .dataframe tbody tr th {\n",
       "        vertical-align: top;\n",
       "    }\n",
       "\n",
       "    .dataframe thead th {\n",
       "        text-align: right;\n",
       "    }\n",
       "</style>\n",
       "<table border=\"1\" class=\"dataframe\">\n",
       "  <thead>\n",
       "    <tr style=\"text-align: right;\">\n",
       "      <th></th>\n",
       "      <th>ORIGIN OF SHIPMENT</th>\n",
       "      <th>DESTINATION OF SHIPMENT</th>\n",
       "      <th>CONTAINER DETAILS</th>\n",
       "      <th>SHIPPER NAME</th>\n",
       "      <th>FREIGHT RATE in INR</th>\n",
       "      <th>FREIGHT RATE in USD</th>\n",
       "      <th>Destination Detention Days</th>\n",
       "    </tr>\n",
       "  </thead>\n",
       "  <tbody>\n",
       "    <tr>\n",
       "      <th>0</th>\n",
       "      <td>JNPT (Jawaharlal Nehru Port Trust)</td>\n",
       "      <td>Los Angeles/Long Beach</td>\n",
       "      <td>40FT</td>\n",
       "      <td>COGO ASSURED</td>\n",
       "      <td>₹1,53,104</td>\n",
       "      <td>$1,591</td>\n",
       "      <td>7 Days</td>\n",
       "    </tr>\n",
       "    <tr>\n",
       "      <th>1</th>\n",
       "      <td>JNPT (Jawaharlal Nehru Port Trust)</td>\n",
       "      <td>Los Angeles/Long Beach</td>\n",
       "      <td>40FT</td>\n",
       "      <td>OOCL</td>\n",
       "      <td>₹1,46,970</td>\n",
       "      <td>$1,545</td>\n",
       "      <td>4 Days</td>\n",
       "    </tr>\n",
       "    <tr>\n",
       "      <th>2</th>\n",
       "      <td>JNPT (Jawaharlal Nehru Port Trust)</td>\n",
       "      <td>Los Angeles/Long Beach</td>\n",
       "      <td>40FT</td>\n",
       "      <td>ONE LINE</td>\n",
       "      <td>₹1,64,130</td>\n",
       "      <td>$1,645</td>\n",
       "      <td>3 Days</td>\n",
       "    </tr>\n",
       "    <tr>\n",
       "      <th>3</th>\n",
       "      <td>JNPT (Jawaharlal Nehru Port Trust)</td>\n",
       "      <td>Los Angeles/Long Beach</td>\n",
       "      <td>40FT</td>\n",
       "      <td>COSCO</td>\n",
       "      <td>₹1,67,846</td>\n",
       "      <td>$1,792</td>\n",
       "      <td>3 Days</td>\n",
       "    </tr>\n",
       "    <tr>\n",
       "      <th>4</th>\n",
       "      <td>JNPT (Jawaharlal Nehru Port Trust)</td>\n",
       "      <td>Los Angeles/Long Beach</td>\n",
       "      <td>40FT</td>\n",
       "      <td>HYUNDAI</td>\n",
       "      <td>₹1,85,576</td>\n",
       "      <td>$1,957</td>\n",
       "      <td>3 Days</td>\n",
       "    </tr>\n",
       "  </tbody>\n",
       "</table>\n",
       "</div>"
      ],
      "text/plain": [
       "                   ORIGIN OF SHIPMENT DESTINATION OF SHIPMENT  \\\n",
       "0  JNPT (Jawaharlal Nehru Port Trust)  Los Angeles/Long Beach   \n",
       "1  JNPT (Jawaharlal Nehru Port Trust)  Los Angeles/Long Beach   \n",
       "2  JNPT (Jawaharlal Nehru Port Trust)  Los Angeles/Long Beach   \n",
       "3  JNPT (Jawaharlal Nehru Port Trust)  Los Angeles/Long Beach   \n",
       "4  JNPT (Jawaharlal Nehru Port Trust)  Los Angeles/Long Beach   \n",
       "\n",
       "  CONTAINER DETAILS SHIPPER NAME  FREIGHT RATE in INR FREIGHT RATE in USD  \\\n",
       "0              40FT  COGO ASSURED           ₹1,53,104              $1,591   \n",
       "1              40FT          OOCL           ₹1,46,970              $1,545   \n",
       "2              40FT      ONE LINE           ₹1,64,130              $1,645   \n",
       "3              40FT         COSCO           ₹1,67,846              $1,792   \n",
       "4              40FT       HYUNDAI           ₹1,85,576              $1,957   \n",
       "\n",
       "  Destination Detention Days  \n",
       "0                     7 Days  \n",
       "1                     4 Days  \n",
       "2                     3 Days  \n",
       "3                     3 Days  \n",
       "4                     3 Days  "
      ]
     },
     "execution_count": 101,
     "metadata": {},
     "output_type": "execute_result"
    }
   ],
   "source": [
    "ship.head()"
   ]
  },
  {
   "cell_type": "markdown",
   "metadata": {},
   "source": [
    "# Cleaning Data"
   ]
  },
  {
   "cell_type": "code",
   "execution_count": 102,
   "metadata": {},
   "outputs": [],
   "source": [
    "for i in air.columns:\n",
    "    air[i]=air[i].str.lower()\n",
    "for i in ship.columns:\n",
    "    ship[i]=ship[i].str.lower()"
   ]
  },
  {
   "cell_type": "code",
   "execution_count": 103,
   "metadata": {},
   "outputs": [],
   "source": [
    "c=air['Freight per kg'][0]\n",
    "r=c[0]\n",
    "air['Freight per kg']=air['Freight per kg'].str.replace(',','')\n",
    "air['Freight per kg']=air['Freight per kg'].str.replace(r,'')\n",
    "air['Freight per kg']=pd.to_numeric(air['Freight per kg'])\n",
    "hrs=[]\n",
    "air['TRANSIT TIME']=air['TRANSIT TIME'].str.replace('hrs','hours')\n",
    "for i in list(air['TRANSIT TIME']):\n",
    "    m=i.split()\n",
    "    if len(m)>2:\n",
    "        c=int(m[2])/60+int(m[0])\n",
    "    else:\n",
    "        c=int(m[0])\n",
    "    hrs.append(round(c,1))\n",
    "air['TRANSIT TIME']=hrs"
   ]
  },
  {
   "cell_type": "code",
   "execution_count": 104,
   "metadata": {},
   "outputs": [
    {
     "name": "stderr",
     "output_type": "stream",
     "text": [
      "C:\\Users\\abhishek\\AppData\\Local\\Temp\\ipykernel_10036\\4093745601.py:2: FutureWarning: The default value of regex will change from True to False in a future version. In addition, single character regular expressions will *not* be treated as literal strings when regex=True.\n",
      "  ship['FREIGHT RATE in USD']=ship['FREIGHT RATE in USD'].str.replace('$','')\n"
     ]
    }
   ],
   "source": [
    "ship['FREIGHT RATE in USD']=ship['FREIGHT RATE in USD'].str.replace(',','')\n",
    "ship['FREIGHT RATE in USD']=ship['FREIGHT RATE in USD'].str.replace('$','')\n",
    "ship['FREIGHT RATE in USD']=pd.to_numeric(ship['FREIGHT RATE in USD'])\n",
    "days=[]\n",
    "for i in list(ship['Destination Detention Days']):\n",
    "    days.append(int(i.split()[0])*24)\n",
    "ship['Destination Detention Days']=days"
   ]
  },
  {
   "cell_type": "code",
   "execution_count": 105,
   "metadata": {},
   "outputs": [
    {
     "data": {
      "text/html": [
       "<div>\n",
       "<style scoped>\n",
       "    .dataframe tbody tr th:only-of-type {\n",
       "        vertical-align: middle;\n",
       "    }\n",
       "\n",
       "    .dataframe tbody tr th {\n",
       "        vertical-align: top;\n",
       "    }\n",
       "\n",
       "    .dataframe thead th {\n",
       "        text-align: right;\n",
       "    }\n",
       "</style>\n",
       "<table border=\"1\" class=\"dataframe\">\n",
       "  <thead>\n",
       "    <tr style=\"text-align: right;\">\n",
       "      <th></th>\n",
       "      <th>ORIGIN OF SHIPMENT</th>\n",
       "      <th>DESTINATION OF SHIPMENT</th>\n",
       "      <th>CONTAINER DETAILS</th>\n",
       "      <th>SHIPPER NAME</th>\n",
       "      <th>FREIGHT RATE in INR</th>\n",
       "      <th>FREIGHT RATE in USD</th>\n",
       "      <th>Destination Detention Days</th>\n",
       "    </tr>\n",
       "  </thead>\n",
       "  <tbody>\n",
       "    <tr>\n",
       "      <th>0</th>\n",
       "      <td>jnpt (jawaharlal nehru port trust)</td>\n",
       "      <td>los angeles/long beach</td>\n",
       "      <td>40ft</td>\n",
       "      <td>cogo assured</td>\n",
       "      <td>₹1,53,104</td>\n",
       "      <td>1591</td>\n",
       "      <td>168</td>\n",
       "    </tr>\n",
       "    <tr>\n",
       "      <th>1</th>\n",
       "      <td>jnpt (jawaharlal nehru port trust)</td>\n",
       "      <td>los angeles/long beach</td>\n",
       "      <td>40ft</td>\n",
       "      <td>oocl</td>\n",
       "      <td>₹1,46,970</td>\n",
       "      <td>1545</td>\n",
       "      <td>96</td>\n",
       "    </tr>\n",
       "    <tr>\n",
       "      <th>2</th>\n",
       "      <td>jnpt (jawaharlal nehru port trust)</td>\n",
       "      <td>los angeles/long beach</td>\n",
       "      <td>40ft</td>\n",
       "      <td>one line</td>\n",
       "      <td>₹1,64,130</td>\n",
       "      <td>1645</td>\n",
       "      <td>72</td>\n",
       "    </tr>\n",
       "    <tr>\n",
       "      <th>3</th>\n",
       "      <td>jnpt (jawaharlal nehru port trust)</td>\n",
       "      <td>los angeles/long beach</td>\n",
       "      <td>40ft</td>\n",
       "      <td>cosco</td>\n",
       "      <td>₹1,67,846</td>\n",
       "      <td>1792</td>\n",
       "      <td>72</td>\n",
       "    </tr>\n",
       "    <tr>\n",
       "      <th>4</th>\n",
       "      <td>jnpt (jawaharlal nehru port trust)</td>\n",
       "      <td>los angeles/long beach</td>\n",
       "      <td>40ft</td>\n",
       "      <td>hyundai</td>\n",
       "      <td>₹1,85,576</td>\n",
       "      <td>1957</td>\n",
       "      <td>72</td>\n",
       "    </tr>\n",
       "  </tbody>\n",
       "</table>\n",
       "</div>"
      ],
      "text/plain": [
       "                   ORIGIN OF SHIPMENT DESTINATION OF SHIPMENT  \\\n",
       "0  jnpt (jawaharlal nehru port trust)  los angeles/long beach   \n",
       "1  jnpt (jawaharlal nehru port trust)  los angeles/long beach   \n",
       "2  jnpt (jawaharlal nehru port trust)  los angeles/long beach   \n",
       "3  jnpt (jawaharlal nehru port trust)  los angeles/long beach   \n",
       "4  jnpt (jawaharlal nehru port trust)  los angeles/long beach   \n",
       "\n",
       "  CONTAINER DETAILS SHIPPER NAME  FREIGHT RATE in INR  FREIGHT RATE in USD  \\\n",
       "0              40ft  cogo assured           ₹1,53,104                 1591   \n",
       "1              40ft          oocl           ₹1,46,970                 1545   \n",
       "2              40ft      one line           ₹1,64,130                 1645   \n",
       "3              40ft         cosco           ₹1,67,846                 1792   \n",
       "4              40ft       hyundai           ₹1,85,576                 1957   \n",
       "\n",
       "   Destination Detention Days  \n",
       "0                         168  \n",
       "1                          96  \n",
       "2                          72  \n",
       "3                          72  \n",
       "4                          72  "
      ]
     },
     "execution_count": 105,
     "metadata": {},
     "output_type": "execute_result"
    }
   ],
   "source": [
    "ship.head()"
   ]
  },
  {
   "cell_type": "code",
   "execution_count": 106,
   "metadata": {},
   "outputs": [
    {
     "data": {
      "text/html": [
       "<div>\n",
       "<style scoped>\n",
       "    .dataframe tbody tr th:only-of-type {\n",
       "        vertical-align: middle;\n",
       "    }\n",
       "\n",
       "    .dataframe tbody tr th {\n",
       "        vertical-align: top;\n",
       "    }\n",
       "\n",
       "    .dataframe thead th {\n",
       "        text-align: right;\n",
       "    }\n",
       "</style>\n",
       "<table border=\"1\" class=\"dataframe\">\n",
       "  <thead>\n",
       "    <tr style=\"text-align: right;\">\n",
       "      <th></th>\n",
       "      <th>FROM</th>\n",
       "      <th>TO</th>\n",
       "      <th>TRANSIT TIME</th>\n",
       "      <th>AIRWAYS</th>\n",
       "      <th>Freight per kg</th>\n",
       "      <th>Operation Type</th>\n",
       "    </tr>\n",
       "  </thead>\n",
       "  <tbody>\n",
       "    <tr>\n",
       "      <th>0</th>\n",
       "      <td>chhatrapati shivaji maharaj international airp...</td>\n",
       "      <td>los angeles international airport (lax)</td>\n",
       "      <td>98.6</td>\n",
       "      <td>qatar airways</td>\n",
       "      <td>6459.0</td>\n",
       "      <td>passenger</td>\n",
       "    </tr>\n",
       "    <tr>\n",
       "      <th>1</th>\n",
       "      <td>chhatrapati shivaji maharaj international airp...</td>\n",
       "      <td>los angeles international airport (lax)</td>\n",
       "      <td>98.6</td>\n",
       "      <td>emirates</td>\n",
       "      <td>6512.0</td>\n",
       "      <td>freighter</td>\n",
       "    </tr>\n",
       "    <tr>\n",
       "      <th>2</th>\n",
       "      <td>chhatrapati shivaji maharaj international airp...</td>\n",
       "      <td>chicago o'hare international airport (ord)</td>\n",
       "      <td>98.6</td>\n",
       "      <td>etihad airways</td>\n",
       "      <td>6307.0</td>\n",
       "      <td>freighter</td>\n",
       "    </tr>\n",
       "    <tr>\n",
       "      <th>3</th>\n",
       "      <td>chhatrapati shivaji maharaj international airp...</td>\n",
       "      <td>chicago o'hare international airport (ord)</td>\n",
       "      <td>98.6</td>\n",
       "      <td>qatar airways</td>\n",
       "      <td>6459.0</td>\n",
       "      <td>passenger</td>\n",
       "    </tr>\n",
       "    <tr>\n",
       "      <th>4</th>\n",
       "      <td>chhatrapati shivaji maharaj international airp...</td>\n",
       "      <td>chicago o'hare international airport (ord)</td>\n",
       "      <td>98.6</td>\n",
       "      <td>emirates</td>\n",
       "      <td>6511.0</td>\n",
       "      <td>freighter</td>\n",
       "    </tr>\n",
       "  </tbody>\n",
       "</table>\n",
       "</div>"
      ],
      "text/plain": [
       "                                                FROM  \\\n",
       "0  chhatrapati shivaji maharaj international airp...   \n",
       "1  chhatrapati shivaji maharaj international airp...   \n",
       "2  chhatrapati shivaji maharaj international airp...   \n",
       "3  chhatrapati shivaji maharaj international airp...   \n",
       "4  chhatrapati shivaji maharaj international airp...   \n",
       "\n",
       "                                           TO  TRANSIT TIME         AIRWAYS  \\\n",
       "0     los angeles international airport (lax)          98.6   qatar airways   \n",
       "1     los angeles international airport (lax)          98.6        emirates   \n",
       "2  chicago o'hare international airport (ord)          98.6  etihad airways   \n",
       "3  chicago o'hare international airport (ord)          98.6   qatar airways   \n",
       "4  chicago o'hare international airport (ord)          98.6        emirates   \n",
       "\n",
       "   Freight per kg Operation Type  \n",
       "0          6459.0      passenger  \n",
       "1          6512.0      freighter  \n",
       "2          6307.0      freighter  \n",
       "3          6459.0      passenger  \n",
       "4          6511.0      freighter  "
      ]
     },
     "execution_count": 106,
     "metadata": {},
     "output_type": "execute_result"
    }
   ],
   "source": [
    "air.head()"
   ]
  },
  {
   "cell_type": "markdown",
   "metadata": {},
   "source": [
    "# Filling missing values"
   ]
  },
  {
   "cell_type": "code",
   "execution_count": 107,
   "metadata": {},
   "outputs": [
    {
     "name": "stdout",
     "output_type": "stream",
     "text": [
      "Total missing values air dataset: 8\n",
      "Total missing values ship dataset: 0\n"
     ]
    }
   ],
   "source": [
    "print(\"Total missing values air dataset:\",air.isna().sum().sum())\n",
    "print(\"Total missing values ship dataset:\",ship.isna().sum().sum())"
   ]
  },
  {
   "cell_type": "code",
   "execution_count": 108,
   "metadata": {},
   "outputs": [],
   "source": [
    "air['Freight per kg'].fillna(0,inplace=True)"
   ]
  },
  {
   "cell_type": "code",
   "execution_count": 109,
   "metadata": {},
   "outputs": [
    {
     "name": "stderr",
     "output_type": "stream",
     "text": [
      "C:\\Users\\abhishek\\AppData\\Local\\Temp\\ipykernel_10036\\1392236523.py:4: SettingWithCopyWarning: \n",
      "A value is trying to be set on a copy of a slice from a DataFrame\n",
      "\n",
      "See the caveats in the documentation: https://pandas.pydata.org/pandas-docs/stable/user_guide/indexing.html#returning-a-view-versus-a-copy\n",
      "  air['Freight per kg'][i]=statistics.mean(list(air['Freight per kg'][air['AIRWAYS']==air['AIRWAYS'][i]]))\n"
     ]
    }
   ],
   "source": [
    "# using mean to replace missing numerical values\n",
    "for i,j in enumerate(list(air['Freight per kg'])):\n",
    "    if j==0:\n",
    "       air['Freight per kg'][i]=statistics.mean(list(air['Freight per kg'][air['AIRWAYS']==air['AIRWAYS'][i]]))"
   ]
  },
  {
   "cell_type": "code",
   "execution_count": 110,
   "metadata": {},
   "outputs": [
    {
     "name": "stdout",
     "output_type": "stream",
     "text": [
      "Total missing values after filling air dataset: 2\n",
      "Total missing values after filling ship dataset: 0\n"
     ]
    }
   ],
   "source": [
    "print(\"Total missing values after filling air dataset:\",air.isna().sum().sum())\n",
    "print(\"Total missing values after filling ship dataset:\",ship.isna().sum().sum())"
   ]
  },
  {
   "cell_type": "markdown",
   "metadata": {},
   "source": [
    "# Extracting necessary columns"
   ]
  },
  {
   "cell_type": "markdown",
   "metadata": {},
   "source": [
    "Weight is not given and can not be determined and even if we determine weight from the given data like by container measurment or in case of airways the carrying capacity of a plane it would not help in predicting the freight rate"
   ]
  },
  {
   "cell_type": "code",
   "execution_count": 111,
   "metadata": {},
   "outputs": [
    {
     "data": {
      "text/html": [
       "<div>\n",
       "<style scoped>\n",
       "    .dataframe tbody tr th:only-of-type {\n",
       "        vertical-align: middle;\n",
       "    }\n",
       "\n",
       "    .dataframe tbody tr th {\n",
       "        vertical-align: top;\n",
       "    }\n",
       "\n",
       "    .dataframe thead th {\n",
       "        text-align: right;\n",
       "    }\n",
       "</style>\n",
       "<table border=\"1\" class=\"dataframe\">\n",
       "  <thead>\n",
       "    <tr style=\"text-align: right;\">\n",
       "      <th></th>\n",
       "      <th>time</th>\n",
       "      <th>freight rate</th>\n",
       "    </tr>\n",
       "  </thead>\n",
       "  <tbody>\n",
       "    <tr>\n",
       "      <th>0</th>\n",
       "      <td>98.6</td>\n",
       "      <td>6459.0</td>\n",
       "    </tr>\n",
       "    <tr>\n",
       "      <th>1</th>\n",
       "      <td>98.6</td>\n",
       "      <td>6512.0</td>\n",
       "    </tr>\n",
       "    <tr>\n",
       "      <th>2</th>\n",
       "      <td>98.6</td>\n",
       "      <td>6307.0</td>\n",
       "    </tr>\n",
       "    <tr>\n",
       "      <th>3</th>\n",
       "      <td>98.6</td>\n",
       "      <td>6459.0</td>\n",
       "    </tr>\n",
       "    <tr>\n",
       "      <th>4</th>\n",
       "      <td>98.6</td>\n",
       "      <td>6511.0</td>\n",
       "    </tr>\n",
       "    <tr>\n",
       "      <th>...</th>\n",
       "      <td>...</td>\n",
       "      <td>...</td>\n",
       "    </tr>\n",
       "    <tr>\n",
       "      <th>70</th>\n",
       "      <td>98.6</td>\n",
       "      <td>8053.0</td>\n",
       "    </tr>\n",
       "    <tr>\n",
       "      <th>71</th>\n",
       "      <td>98.6</td>\n",
       "      <td>2820.0</td>\n",
       "    </tr>\n",
       "    <tr>\n",
       "      <th>72</th>\n",
       "      <td>98.6</td>\n",
       "      <td>6834.0</td>\n",
       "    </tr>\n",
       "    <tr>\n",
       "      <th>73</th>\n",
       "      <td>98.6</td>\n",
       "      <td>8455.0</td>\n",
       "    </tr>\n",
       "    <tr>\n",
       "      <th>74</th>\n",
       "      <td>98.6</td>\n",
       "      <td>3102.0</td>\n",
       "    </tr>\n",
       "  </tbody>\n",
       "</table>\n",
       "<p>75 rows × 2 columns</p>\n",
       "</div>"
      ],
      "text/plain": [
       "    time  freight rate\n",
       "0   98.6        6459.0\n",
       "1   98.6        6512.0\n",
       "2   98.6        6307.0\n",
       "3   98.6        6459.0\n",
       "4   98.6        6511.0\n",
       "..   ...           ...\n",
       "70  98.6        8053.0\n",
       "71  98.6        2820.0\n",
       "72  98.6        6834.0\n",
       "73  98.6        8455.0\n",
       "74  98.6        3102.0\n",
       "\n",
       "[75 rows x 2 columns]"
      ]
     },
     "execution_count": 111,
     "metadata": {},
     "output_type": "execute_result"
    }
   ],
   "source": [
    "air_model=pd.DataFrame(columns=['time','freight rate'])\n",
    "air_model['time']=air['TRANSIT TIME']\n",
    "air_model['freight rate']=air['Freight per kg']\n",
    "air_model['freight rate']=air_model['freight rate'].round()\n",
    "air_model"
   ]
  },
  {
   "cell_type": "code",
   "execution_count": 112,
   "metadata": {},
   "outputs": [
    {
     "data": {
      "text/html": [
       "<div>\n",
       "<style scoped>\n",
       "    .dataframe tbody tr th:only-of-type {\n",
       "        vertical-align: middle;\n",
       "    }\n",
       "\n",
       "    .dataframe tbody tr th {\n",
       "        vertical-align: top;\n",
       "    }\n",
       "\n",
       "    .dataframe thead th {\n",
       "        text-align: right;\n",
       "    }\n",
       "</style>\n",
       "<table border=\"1\" class=\"dataframe\">\n",
       "  <thead>\n",
       "    <tr style=\"text-align: right;\">\n",
       "      <th></th>\n",
       "      <th>time</th>\n",
       "      <th>freight rate</th>\n",
       "    </tr>\n",
       "  </thead>\n",
       "  <tbody>\n",
       "    <tr>\n",
       "      <th>0</th>\n",
       "      <td>168</td>\n",
       "      <td>1591</td>\n",
       "    </tr>\n",
       "    <tr>\n",
       "      <th>1</th>\n",
       "      <td>96</td>\n",
       "      <td>1545</td>\n",
       "    </tr>\n",
       "    <tr>\n",
       "      <th>2</th>\n",
       "      <td>72</td>\n",
       "      <td>1645</td>\n",
       "    </tr>\n",
       "    <tr>\n",
       "      <th>3</th>\n",
       "      <td>72</td>\n",
       "      <td>1792</td>\n",
       "    </tr>\n",
       "    <tr>\n",
       "      <th>4</th>\n",
       "      <td>72</td>\n",
       "      <td>1957</td>\n",
       "    </tr>\n",
       "    <tr>\n",
       "      <th>...</th>\n",
       "      <td>...</td>\n",
       "      <td>...</td>\n",
       "    </tr>\n",
       "    <tr>\n",
       "      <th>186</th>\n",
       "      <td>72</td>\n",
       "      <td>3502</td>\n",
       "    </tr>\n",
       "    <tr>\n",
       "      <th>187</th>\n",
       "      <td>72</td>\n",
       "      <td>3523</td>\n",
       "    </tr>\n",
       "    <tr>\n",
       "      <th>188</th>\n",
       "      <td>72</td>\n",
       "      <td>3564</td>\n",
       "    </tr>\n",
       "    <tr>\n",
       "      <th>189</th>\n",
       "      <td>72</td>\n",
       "      <td>6108</td>\n",
       "    </tr>\n",
       "    <tr>\n",
       "      <th>190</th>\n",
       "      <td>72</td>\n",
       "      <td>6427</td>\n",
       "    </tr>\n",
       "  </tbody>\n",
       "</table>\n",
       "<p>191 rows × 2 columns</p>\n",
       "</div>"
      ],
      "text/plain": [
       "     time  freight rate\n",
       "0     168          1591\n",
       "1      96          1545\n",
       "2      72          1645\n",
       "3      72          1792\n",
       "4      72          1957\n",
       "..    ...           ...\n",
       "186    72          3502\n",
       "187    72          3523\n",
       "188    72          3564\n",
       "189    72          6108\n",
       "190    72          6427\n",
       "\n",
       "[191 rows x 2 columns]"
      ]
     },
     "execution_count": 112,
     "metadata": {},
     "output_type": "execute_result"
    }
   ],
   "source": [
    "ship_model=pd.DataFrame(columns=['time','freight rate'])\n",
    "ship_model['time']=ship['Destination Detention Days']\n",
    "ship_model['freight rate']=ship['FREIGHT RATE in USD']\n",
    "ship_model['freight rate']=ship_model['freight rate'].round()\n",
    "ship_model"
   ]
  },
  {
   "cell_type": "markdown",
   "metadata": {},
   "source": [
    "# Using LinearRegression as Model"
   ]
  },
  {
   "cell_type": "code",
   "execution_count": 113,
   "metadata": {},
   "outputs": [],
   "source": [
    "\n",
    "air_lr=LinearRegression()\n",
    "ship_lr=LinearRegression()"
   ]
  },
  {
   "cell_type": "code",
   "execution_count": 114,
   "metadata": {},
   "outputs": [
    {
     "data": {
      "text/html": [
       "<style>#sk-container-id-2 {color: black;background-color: white;}#sk-container-id-2 pre{padding: 0;}#sk-container-id-2 div.sk-toggleable {background-color: white;}#sk-container-id-2 label.sk-toggleable__label {cursor: pointer;display: block;width: 100%;margin-bottom: 0;padding: 0.3em;box-sizing: border-box;text-align: center;}#sk-container-id-2 label.sk-toggleable__label-arrow:before {content: \"▸\";float: left;margin-right: 0.25em;color: #696969;}#sk-container-id-2 label.sk-toggleable__label-arrow:hover:before {color: black;}#sk-container-id-2 div.sk-estimator:hover label.sk-toggleable__label-arrow:before {color: black;}#sk-container-id-2 div.sk-toggleable__content {max-height: 0;max-width: 0;overflow: hidden;text-align: left;background-color: #f0f8ff;}#sk-container-id-2 div.sk-toggleable__content pre {margin: 0.2em;color: black;border-radius: 0.25em;background-color: #f0f8ff;}#sk-container-id-2 input.sk-toggleable__control:checked~div.sk-toggleable__content {max-height: 200px;max-width: 100%;overflow: auto;}#sk-container-id-2 input.sk-toggleable__control:checked~label.sk-toggleable__label-arrow:before {content: \"▾\";}#sk-container-id-2 div.sk-estimator input.sk-toggleable__control:checked~label.sk-toggleable__label {background-color: #d4ebff;}#sk-container-id-2 div.sk-label input.sk-toggleable__control:checked~label.sk-toggleable__label {background-color: #d4ebff;}#sk-container-id-2 input.sk-hidden--visually {border: 0;clip: rect(1px 1px 1px 1px);clip: rect(1px, 1px, 1px, 1px);height: 1px;margin: -1px;overflow: hidden;padding: 0;position: absolute;width: 1px;}#sk-container-id-2 div.sk-estimator {font-family: monospace;background-color: #f0f8ff;border: 1px dotted black;border-radius: 0.25em;box-sizing: border-box;margin-bottom: 0.5em;}#sk-container-id-2 div.sk-estimator:hover {background-color: #d4ebff;}#sk-container-id-2 div.sk-parallel-item::after {content: \"\";width: 100%;border-bottom: 1px solid gray;flex-grow: 1;}#sk-container-id-2 div.sk-label:hover label.sk-toggleable__label {background-color: #d4ebff;}#sk-container-id-2 div.sk-serial::before {content: \"\";position: absolute;border-left: 1px solid gray;box-sizing: border-box;top: 0;bottom: 0;left: 50%;z-index: 0;}#sk-container-id-2 div.sk-serial {display: flex;flex-direction: column;align-items: center;background-color: white;padding-right: 0.2em;padding-left: 0.2em;position: relative;}#sk-container-id-2 div.sk-item {position: relative;z-index: 1;}#sk-container-id-2 div.sk-parallel {display: flex;align-items: stretch;justify-content: center;background-color: white;position: relative;}#sk-container-id-2 div.sk-item::before, #sk-container-id-2 div.sk-parallel-item::before {content: \"\";position: absolute;border-left: 1px solid gray;box-sizing: border-box;top: 0;bottom: 0;left: 50%;z-index: -1;}#sk-container-id-2 div.sk-parallel-item {display: flex;flex-direction: column;z-index: 1;position: relative;background-color: white;}#sk-container-id-2 div.sk-parallel-item:first-child::after {align-self: flex-end;width: 50%;}#sk-container-id-2 div.sk-parallel-item:last-child::after {align-self: flex-start;width: 50%;}#sk-container-id-2 div.sk-parallel-item:only-child::after {width: 0;}#sk-container-id-2 div.sk-dashed-wrapped {border: 1px dashed gray;margin: 0 0.4em 0.5em 0.4em;box-sizing: border-box;padding-bottom: 0.4em;background-color: white;}#sk-container-id-2 div.sk-label label {font-family: monospace;font-weight: bold;display: inline-block;line-height: 1.2em;}#sk-container-id-2 div.sk-label-container {text-align: center;}#sk-container-id-2 div.sk-container {/* jupyter's `normalize.less` sets `[hidden] { display: none; }` but bootstrap.min.css set `[hidden] { display: none !important; }` so we also need the `!important` here to be able to override the default hidden behavior on the sphinx rendered scikit-learn.org. See: https://github.com/scikit-learn/scikit-learn/issues/21755 */display: inline-block !important;position: relative;}#sk-container-id-2 div.sk-text-repr-fallback {display: none;}</style><div id=\"sk-container-id-2\" class=\"sk-top-container\"><div class=\"sk-text-repr-fallback\"><pre>LinearRegression()</pre><b>In a Jupyter environment, please rerun this cell to show the HTML representation or trust the notebook. <br />On GitHub, the HTML representation is unable to render, please try loading this page with nbviewer.org.</b></div><div class=\"sk-container\" hidden><div class=\"sk-item\"><div class=\"sk-estimator sk-toggleable\"><input class=\"sk-toggleable__control sk-hidden--visually\" id=\"sk-estimator-id-2\" type=\"checkbox\" checked><label for=\"sk-estimator-id-2\" class=\"sk-toggleable__label sk-toggleable__label-arrow\">LinearRegression</label><div class=\"sk-toggleable__content\"><pre>LinearRegression()</pre></div></div></div></div></div>"
      ],
      "text/plain": [
       "LinearRegression()"
      ]
     },
     "execution_count": 114,
     "metadata": {},
     "output_type": "execute_result"
    }
   ],
   "source": [
    "air_lr.fit(np.array(list(air_model['time'])).reshape(-1,1),list(air_model['freight rate']))\n",
    "ship_lr.fit(np.array(list(ship_model['time'])).reshape(-1,1),list(ship_model['freight rate']))"
   ]
  },
  {
   "cell_type": "markdown",
   "metadata": {},
   "source": [
    "# Test input"
   ]
  },
  {
   "cell_type": "code",
   "execution_count": 115,
   "metadata": {},
   "outputs": [
    {
     "name": "stdout",
     "output_type": "stream",
     "text": [
      "[7081.35870532]\n",
      "[3178.4488299]\n"
     ]
    }
   ],
   "source": [
    "print(air_lr.predict([[98.6]]))\n",
    "print(ship_lr.predict([[72]]))"
   ]
  },
  {
   "cell_type": "markdown",
   "metadata": {},
   "source": [
    "# Ways to scrape Data"
   ]
  },
  {
   "cell_type": "markdown",
   "metadata": {},
   "source": [
    "Here are some ways to scrape data from websites:\n",
    "\n",
    "HTML Parsing: This involves using an HTML parser like BeautifulSoup or Scrapy to extract data from the HTML code of a web page.\n",
    "\n",
    "APIs: Many websites offer APIs that allow developers to access their data in a structured format.\n",
    "\n",
    "Web Scraping Tools: There are a number of web scraping tools available that make it easier to extract data from websites. These tools typically allow you to configure the scraping process through a user interface and generate code automatically.\n",
    "\n",
    "Automated Data Extraction Services: There are several automated data extraction services available that allow you to extract data from websites without writing code. These services typically provide a web-based interface for configuring the data extraction process and storing the results.\n",
    "\n",
    "Aside from web scraping, there are several alternative methods of data retrieval, including:\n",
    "\n",
    "Data Dumps: Some websites provide downloadable data dumps in a structured format, which can be parsed and analyzed offline.\n",
    "\n",
    "RSS Feeds: Some websites provide RSS feeds that can be used to extract updates to the website content.\n",
    "\n",
    "Webhooks: Some websites provide webhooks that allow developers to receive real-time updates when new data is added or changed on the website.\n",
    "\n",
    "Data Marketplaces: There are several data marketplaces available where you can purchase structured data for analysis."
   ]
  }
 ],
 "metadata": {
  "kernelspec": {
   "display_name": "Python 3",
   "language": "python",
   "name": "python3"
  },
  "language_info": {
   "codemirror_mode": {
    "name": "ipython",
    "version": 3
   },
   "file_extension": ".py",
   "mimetype": "text/x-python",
   "name": "python",
   "nbconvert_exporter": "python",
   "pygments_lexer": "ipython3",
   "version": "3.10.6"
  },
  "orig_nbformat": 4
 },
 "nbformat": 4,
 "nbformat_minor": 2
}
